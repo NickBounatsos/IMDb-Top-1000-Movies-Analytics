{
 "cells": [
  {
   "cell_type": "code",
   "execution_count": 6,
   "id": "77fd6da3-d405-49ce-b01c-3c9a4b3a4b05",
   "metadata": {},
   "outputs": [],
   "source": [
    "import pandas as pd\n",
    "import numpy as np\n",
    "import requests\n",
    "from bs4 import BeautifulSoup"
   ]
  },
  {
   "cell_type": "code",
   "execution_count": 7,
   "id": "d00e10b4-408a-42f8-998a-6c0ef262c555",
   "metadata": {},
   "outputs": [],
   "source": [
    "url = 'https://www.imdb.com/search/title/?count=100&groups=top_1000&sort=user_rating'\n",
    "response = requests.get(url)\n",
    "soup = BeautifulSoup(response.content, 'html.parser')"
   ]
  },
  {
   "cell_type": "code",
   "execution_count": 8,
   "id": "95f12bef-8200-4532-8994-9c06536814f5",
   "metadata": {},
   "outputs": [],
   "source": [
    "movie_data = soup.findAll('div', attrs= {'class': 'lister-item mode-advanced'})\n",
    "movies_df = pd.DataFrame({\"Title\" : pd.Series(dtype='str'),\n",
    "                          \"Year Released\" : pd.Series(dtype='int'),\n",
    "                          \"Rating\" : pd.Series(dtype='int'),\n",
    "                          \"Category\" : pd.Series(dtype='str')})"
   ]
  },
  {
   "cell_type": "code",
   "execution_count": 9,
   "id": "e008aac8-aedc-44f0-9197-bfc5889f09d3",
   "metadata": {},
   "outputs": [],
   "source": [
    "for store in movie_data:\n",
    "    \n",
    "    name = store.h3.a.text\n",
    "    year_of_release = store.h3.find('span', class_ = 'lister-item-year text-muted unbold').text.replace('(', '').replace(')', '').replace('I ', '')\n",
    "    rate = store.find('div', class_ = 'inline-block ratings-imdb-rating').text.replace('\\n', '')\n",
    "    genre = store.p.find('span', class_ = 'genre').text.replace('\\n', '')\n",
    "    \n",
    "    movies_df=movies_df.append({'Title' : name, 'Year Released' : year_of_release, 'Rating' : rate, 'Category' : genre}, ignore_index=True)"
   ]
  },
  {
   "cell_type": "code",
   "execution_count": 10,
   "id": "8ad88150-d39f-42fb-942f-6c676b1d3282",
   "metadata": {},
   "outputs": [],
   "source": [
    "movies_df['Year Released'] = movies_df['Year Released'].astype(int)\n",
    "movies_df['Rating'] = movies_df['Rating'].astype(float)\n",
    "movies_df.index = np.arange(1, len(movies_df)+1)\n",
    "movies_df.to_excel(\"movies.xlsx\")\n",
    "movies_df.to_csv(index=False)"
   ]
  },
  {
   "cell_type": "markdown",
   "id": "30c4f244-4fbd-475b-be63-3a05d696ba53",
   "metadata": {},
   "source": [
    "### Top 10 Vintage Movies"
   ]
  },
  {
   "cell_type": "code",
   "execution_count": 11,
   "id": "9ca9adc8-f4f0-4911-b36d-5927d5aaaecd",
   "metadata": {},
   "outputs": [
    {
     "data": {
      "text/html": [
       "<div>\n",
       "<style scoped>\n",
       "    .dataframe tbody tr th:only-of-type {\n",
       "        vertical-align: middle;\n",
       "    }\n",
       "\n",
       "    .dataframe tbody tr th {\n",
       "        vertical-align: top;\n",
       "    }\n",
       "\n",
       "    .dataframe thead th {\n",
       "        text-align: right;\n",
       "    }\n",
       "</style>\n",
       "<table border=\"1\" class=\"dataframe\">\n",
       "  <thead>\n",
       "    <tr style=\"text-align: right;\">\n",
       "      <th></th>\n",
       "      <th>Title</th>\n",
       "      <th>Year Released</th>\n",
       "      <th>Rating</th>\n",
       "      <th>Category</th>\n",
       "    </tr>\n",
       "  </thead>\n",
       "  <tbody>\n",
       "    <tr>\n",
       "      <th>1</th>\n",
       "      <td>Τελευταία έξοδος: Ρίτα Χέιγουορθ</td>\n",
       "      <td>1994</td>\n",
       "      <td>9.3</td>\n",
       "      <td>Drama</td>\n",
       "    </tr>\n",
       "    <tr>\n",
       "      <th>2</th>\n",
       "      <td>Ο νονός</td>\n",
       "      <td>1972</td>\n",
       "      <td>9.2</td>\n",
       "      <td>Crime, Drama</td>\n",
       "    </tr>\n",
       "    <tr>\n",
       "      <th>3</th>\n",
       "      <td>Ο νονός, μέρος 2ο</td>\n",
       "      <td>1974</td>\n",
       "      <td>9.0</td>\n",
       "      <td>Crime, Drama</td>\n",
       "    </tr>\n",
       "    <tr>\n",
       "      <th>4</th>\n",
       "      <td>Οι 12 Ένορκοι</td>\n",
       "      <td>1957</td>\n",
       "      <td>9.0</td>\n",
       "      <td>Crime, Drama</td>\n",
       "    </tr>\n",
       "    <tr>\n",
       "      <th>5</th>\n",
       "      <td>Pulp Fiction</td>\n",
       "      <td>1994</td>\n",
       "      <td>8.9</td>\n",
       "      <td>Crime, Drama</td>\n",
       "    </tr>\n",
       "    <tr>\n",
       "      <th>6</th>\n",
       "      <td>Η λίστα του Σίντλερ</td>\n",
       "      <td>1993</td>\n",
       "      <td>8.9</td>\n",
       "      <td>Biography, Drama, History</td>\n",
       "    </tr>\n",
       "    <tr>\n",
       "      <th>7</th>\n",
       "      <td>Fight Club</td>\n",
       "      <td>1999</td>\n",
       "      <td>8.8</td>\n",
       "      <td>Drama</td>\n",
       "    </tr>\n",
       "    <tr>\n",
       "      <th>8</th>\n",
       "      <td>Φόρεστ Γκαμπ</td>\n",
       "      <td>1994</td>\n",
       "      <td>8.8</td>\n",
       "      <td>Drama, Romance</td>\n",
       "    </tr>\n",
       "    <tr>\n",
       "      <th>9</th>\n",
       "      <td>Ο καλός, ο κακός και ο άσχημος</td>\n",
       "      <td>1966</td>\n",
       "      <td>8.8</td>\n",
       "      <td>Western</td>\n",
       "    </tr>\n",
       "    <tr>\n",
       "      <th>10</th>\n",
       "      <td>The Matrix</td>\n",
       "      <td>1999</td>\n",
       "      <td>8.7</td>\n",
       "      <td>Action, Sci-Fi</td>\n",
       "    </tr>\n",
       "  </tbody>\n",
       "</table>\n",
       "</div>"
      ],
      "text/plain": [
       "                               Title  Year Released  Rating  \\\n",
       "1   Τελευταία έξοδος: Ρίτα Χέιγουορθ           1994     9.3   \n",
       "2                            Ο νονός           1972     9.2   \n",
       "3                  Ο νονός, μέρος 2ο           1974     9.0   \n",
       "4                      Οι 12 Ένορκοι           1957     9.0   \n",
       "5                       Pulp Fiction           1994     8.9   \n",
       "6                Η λίστα του Σίντλερ           1993     8.9   \n",
       "7                         Fight Club           1999     8.8   \n",
       "8                       Φόρεστ Γκαμπ           1994     8.8   \n",
       "9     Ο καλός, ο κακός και ο άσχημος           1966     8.8   \n",
       "10                        The Matrix           1999     8.7   \n",
       "\n",
       "                                 Category  \n",
       "1                       Drama              \n",
       "2                Crime, Drama              \n",
       "3                Crime, Drama              \n",
       "4                Crime, Drama              \n",
       "5                Crime, Drama              \n",
       "6   Biography, Drama, History              \n",
       "7                       Drama              \n",
       "8              Drama, Romance              \n",
       "9                     Western              \n",
       "10             Action, Sci-Fi              "
      ]
     },
     "execution_count": 11,
     "metadata": {},
     "output_type": "execute_result"
    }
   ],
   "source": [
    "vintage_movies_df=movies_df.copy()\n",
    "vintage_movies_df['Year Released'] = vintage_movies_df['Year Released'].astype(int)\n",
    "vintage_movies_df['Rating'] = vintage_movies_df['Rating'].astype(float)\n",
    "vintage_movies_df.drop(vintage_movies_df[vintage_movies_df['Year Released'] > 2000].index, inplace = True)\n",
    "vintage_movies_df.index = np.arange(1, len(vintage_movies_df)+1)\n",
    "vintage_movies_df.to_excel(\"vintage_movies.xlsx\")\n",
    "vintage_movies_df.to_csv(index=False)\n",
    "vintage_movies_df.head(10)"
   ]
  },
  {
   "cell_type": "markdown",
   "id": "6e931ac8-5a5f-4837-8f49-57ab9faeab19",
   "metadata": {},
   "source": [
    "### Top 10 Romance Movies"
   ]
  },
  {
   "cell_type": "code",
   "execution_count": 12,
   "id": "c0b1a070-fe0c-4ce0-862d-f3f732632d2d",
   "metadata": {},
   "outputs": [],
   "source": [
    "romance_movies_df=movies_df.copy()"
   ]
  },
  {
   "cell_type": "code",
   "execution_count": null,
   "id": "473cf327-85d0-41fc-9470-2788fc91fdfb",
   "metadata": {},
   "outputs": [],
   "source": []
  }
 ],
 "metadata": {
  "kernelspec": {
   "display_name": "Python 3 (ipykernel)",
   "language": "python",
   "name": "python3"
  },
  "language_info": {
   "codemirror_mode": {
    "name": "ipython",
    "version": 3
   },
   "file_extension": ".py",
   "mimetype": "text/x-python",
   "name": "python",
   "nbconvert_exporter": "python",
   "pygments_lexer": "ipython3",
   "version": "3.9.1"
  }
 },
 "nbformat": 4,
 "nbformat_minor": 5
}
